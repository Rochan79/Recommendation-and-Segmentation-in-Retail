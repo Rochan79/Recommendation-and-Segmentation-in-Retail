{
 "cells": [
  {
   "cell_type": "markdown",
   "id": "0b4eb920",
   "metadata": {},
   "source": [
    "# Code"
   ]
  },
  {
   "cell_type": "markdown",
   "id": "5be7f180",
   "metadata": {},
   "source": [
    "## Imports and packages required"
   ]
  },
  {
   "cell_type": "code",
   "execution_count": 1,
   "id": "5558fd85",
   "metadata": {},
   "outputs": [],
   "source": [
    "import numpy as np\n",
    "import pandas as pd"
   ]
  },
  {
   "cell_type": "markdown",
   "id": "fdc406cc",
   "metadata": {},
   "source": [
    "## Preprocessing"
   ]
  },
  {
   "cell_type": "markdown",
   "id": "6168863a",
   "metadata": {},
   "source": [
    "### 1. Reading the CSV File"
   ]
  },
  {
   "cell_type": "code",
   "execution_count": 2,
   "id": "0079b709",
   "metadata": {},
   "outputs": [
    {
     "data": {
      "text/html": [
       "<div>\n",
       "<style scoped>\n",
       "    .dataframe tbody tr th:only-of-type {\n",
       "        vertical-align: middle;\n",
       "    }\n",
       "\n",
       "    .dataframe tbody tr th {\n",
       "        vertical-align: top;\n",
       "    }\n",
       "\n",
       "    .dataframe thead th {\n",
       "        text-align: right;\n",
       "    }\n",
       "</style>\n",
       "<table border=\"1\" class=\"dataframe\">\n",
       "  <thead>\n",
       "    <tr style=\"text-align: right;\">\n",
       "      <th></th>\n",
       "      <th>Invoice</th>\n",
       "      <th>StockCode</th>\n",
       "      <th>Description</th>\n",
       "      <th>Quantity</th>\n",
       "      <th>InvoiceDate</th>\n",
       "      <th>Price</th>\n",
       "      <th>Customer ID</th>\n",
       "      <th>Country</th>\n",
       "    </tr>\n",
       "  </thead>\n",
       "  <tbody>\n",
       "    <tr>\n",
       "      <th>0</th>\n",
       "      <td>489434</td>\n",
       "      <td>85048</td>\n",
       "      <td>15CM CHRISTMAS GLASS BALL 20 LIGHTS</td>\n",
       "      <td>12</td>\n",
       "      <td>1.12.2009 07:45</td>\n",
       "      <td>6.95</td>\n",
       "      <td>13085.0</td>\n",
       "      <td>United Kingdom</td>\n",
       "    </tr>\n",
       "    <tr>\n",
       "      <th>1</th>\n",
       "      <td>489434</td>\n",
       "      <td>79323P</td>\n",
       "      <td>PINK CHERRY LIGHTS</td>\n",
       "      <td>12</td>\n",
       "      <td>1.12.2009 07:45</td>\n",
       "      <td>6.75</td>\n",
       "      <td>13085.0</td>\n",
       "      <td>United Kingdom</td>\n",
       "    </tr>\n",
       "    <tr>\n",
       "      <th>2</th>\n",
       "      <td>489434</td>\n",
       "      <td>79323W</td>\n",
       "      <td>WHITE CHERRY LIGHTS</td>\n",
       "      <td>12</td>\n",
       "      <td>1.12.2009 07:45</td>\n",
       "      <td>6.75</td>\n",
       "      <td>13085.0</td>\n",
       "      <td>United Kingdom</td>\n",
       "    </tr>\n",
       "  </tbody>\n",
       "</table>\n",
       "</div>"
      ],
      "text/plain": [
       "  Invoice StockCode                          Description  Quantity  \\\n",
       "0  489434     85048  15CM CHRISTMAS GLASS BALL 20 LIGHTS        12   \n",
       "1  489434    79323P                   PINK CHERRY LIGHTS        12   \n",
       "2  489434    79323W                  WHITE CHERRY LIGHTS        12   \n",
       "\n",
       "       InvoiceDate  Price  Customer ID         Country  \n",
       "0  1.12.2009 07:45   6.95      13085.0  United Kingdom  \n",
       "1  1.12.2009 07:45   6.75      13085.0  United Kingdom  \n",
       "2  1.12.2009 07:45   6.75      13085.0  United Kingdom  "
      ]
     },
     "execution_count": 2,
     "metadata": {},
     "output_type": "execute_result"
    }
   ],
   "source": [
    "df = pd.read_csv('../data/online_retail_listing.csv', on_bad_lines='skip',delimiter=';', decimal = ',')\n",
    "df.head(3)"
   ]
  },
  {
   "cell_type": "markdown",
   "id": "23f416ae",
   "metadata": {},
   "source": [
    "### 2. InvoiceDate column type conversion from String to DateTime"
   ]
  },
  {
   "cell_type": "code",
   "execution_count": 3,
   "id": "32d8ff34",
   "metadata": {},
   "outputs": [],
   "source": [
    "df['InvoiceDate'] = pd.to_datetime(df['InvoiceDate'], format = \"%d.%m.%Y %H:%M\")"
   ]
  },
  {
   "cell_type": "markdown",
   "id": "8fa867dd",
   "metadata": {},
   "source": [
    "### 3. Customer ID column type conversion from Float to Int"
   ]
  },
  {
   "cell_type": "code",
   "execution_count": 4,
   "id": "133212cb",
   "metadata": {},
   "outputs": [],
   "source": [
    "df['Customer ID'] = df['Customer ID'].astype('Int64')"
   ]
  },
  {
   "cell_type": "markdown",
   "id": "47ddde01",
   "metadata": {},
   "source": [
    "### 4. Quantity and price - Filter out bad values"
   ]
  },
  {
   "cell_type": "code",
   "execution_count": 5,
   "id": "2fb4a6ac",
   "metadata": {},
   "outputs": [],
   "source": [
    "df = df[df['Quantity']>=0]\n",
    "df = df[df['Price']>=0]"
   ]
  },
  {
   "cell_type": "markdown",
   "id": "f085a6ba",
   "metadata": {},
   "source": [
    "### 5. Processing the Description"
   ]
  },
  {
   "cell_type": "markdown",
   "id": "6366c689",
   "metadata": {},
   "source": [
    "1. Convert all descriptions to uppercase\n",
    "2. Find `StockCode`s with multiple descriptions (Lengthy, Short, NaN, etc.) and keep the longest string as the detailed description\n",
    "3. Filter out transactions with no descriptions (66 found)\n",
    "4. Strip the string to remove any leading and trailing whitespaces"
   ]
  },
  {
   "cell_type": "code",
   "execution_count": 6,
   "id": "e87a748c",
   "metadata": {},
   "outputs": [],
   "source": [
    "#1\n",
    "df[\"Description\"] = df[\"Description\"].str.upper()\n",
    "\n",
    "#2\n",
    "grps = df[[\"StockCode\", \"Description\"]].drop_duplicates().groupby(\"StockCode\")\n",
    "desc_replacer = dict()\n",
    "for grp in grps:\n",
    "    if len(grp[1])>1:\n",
    "        desc_replacer[grp[0]] = grp[1][\"Description\"][grp[1][\"Description\"].map(str).agg(len).idxmax()]\n",
    "\n",
    "df[\"Description\"] = df.apply(\n",
    "        axis=1, \n",
    "        func=lambda x: desc_replacer[x[\"StockCode\"]] if x[\"StockCode\"] in desc_replacer.keys() else x[\"Description\"]\n",
    "    )\n",
    "\n",
    "#3\n",
    "df = df[df['Description'].notna()]\n",
    "\n",
    "#4\n",
    "df[\"Description\"] = df[\"Description\"].map(lambda x: str(x).strip())"
   ]
  },
  {
   "cell_type": "markdown",
   "id": "56d088d9",
   "metadata": {},
   "source": [
    "### 6. Processing the Customer IDs"
   ]
  },
  {
   "cell_type": "markdown",
   "id": "673350a3",
   "metadata": {},
   "source": [
    "In the dataset, we know that there is no such entry where the same invoice is shared between two customers.\n",
    "\n",
    "Let us check if the same invoice has a customer ID in some entries, and NA in other"
   ]
  },
  {
   "cell_type": "code",
   "execution_count": 7,
   "id": "82cb4200",
   "metadata": {},
   "outputs": [
    {
     "data": {
      "text/plain": [
       "232427"
      ]
     },
     "execution_count": 7,
     "metadata": {},
     "output_type": "execute_result"
    }
   ],
   "source": [
    "df[\"Customer ID\"].isna().sum()"
   ]
  },
  {
   "cell_type": "code",
   "execution_count": 8,
   "id": "5ff4fbb3",
   "metadata": {},
   "outputs": [
    {
     "data": {
      "text/plain": [
       "0"
      ]
     },
     "metadata": {},
     "output_type": "display_data"
    }
   ],
   "source": [
    "empty_CID_Orders = df[df[\"Customer ID\"].isna()][\"Invoice\"].drop_duplicates().values.tolist()\n",
    "display(df[df[\"Invoice\"].map(lambda x: x in empty_CID_Orders)][\"Customer ID\"].notna().sum())"
   ]
  },
  {
   "cell_type": "markdown",
   "id": "4110a152",
   "metadata": {},
   "source": [
    "Since there are no invoices where we can recover `Customer ID` from another entry, we can give placeholder IDs to Customers with ID `NA`, assuming each invoice corresponds to a new customer."
   ]
  },
  {
   "cell_type": "code",
   "execution_count": 9,
   "id": "34e155e8",
   "metadata": {},
   "outputs": [],
   "source": [
    "max_existing_id = df[\"Customer ID\"].max()\n",
    "invoice_cust_dict = dict()\n",
    "\n",
    "for key in empty_CID_Orders:\n",
    "    max_existing_id += 1\n",
    "    invoice_cust_dict[key] = max_existing_id\n",
    "\n",
    "df[\"Valid_Customer\"] = df[\"Customer ID\"].notna().map(lambda x: int(x))\n",
    "df[\"Customer ID\"] = df.apply(\n",
    "        axis=1, \n",
    "        func=lambda x: invoice_cust_dict[x[\"Invoice\"]] if x[\"Invoice\"] in invoice_cust_dict.keys() else x[\"Customer ID\"]\n",
    "    )"
   ]
  },
  {
   "cell_type": "markdown",
   "id": "9bda4362",
   "metadata": {},
   "source": [
    "### 7. Removing Cancelled transactions"
   ]
  },
  {
   "cell_type": "code",
   "execution_count": 14,
   "id": "10a9c05f",
   "metadata": {},
   "outputs": [],
   "source": [
    "df = df[df[\"Invoice\"].map(lambda x: \"c\" not in str(x).lower())]"
   ]
  },
  {
   "cell_type": "markdown",
   "id": "bcf5ab62",
   "metadata": {},
   "source": [
    "### 8. Drop duplicate entries of the same transaction"
   ]
  },
  {
   "cell_type": "code",
   "execution_count": 15,
   "id": "e8cf6137",
   "metadata": {},
   "outputs": [],
   "source": [
    "df.drop_duplicates(inplace=True)"
   ]
  },
  {
   "cell_type": "markdown",
   "id": "6fb16c20",
   "metadata": {},
   "source": [
    "### 9. Check for invalid data in the DataFrame"
   ]
  },
  {
   "cell_type": "code",
   "execution_count": 16,
   "id": "39674d88",
   "metadata": {},
   "outputs": [
    {
     "data": {
      "text/plain": [
       "Invoice           0\n",
       "StockCode         0\n",
       "Description       0\n",
       "Quantity          0\n",
       "InvoiceDate       0\n",
       "Price             0\n",
       "Customer ID       0\n",
       "Country           0\n",
       "Valid_Customer    0\n",
       "dtype: int64"
      ]
     },
     "execution_count": 16,
     "metadata": {},
     "output_type": "execute_result"
    }
   ],
   "source": [
    "df.isna().sum()"
   ]
  },
  {
   "cell_type": "markdown",
   "id": "0e6ffa2a",
   "metadata": {},
   "source": [
    "### 10. Save the cleaned DataFrame for further analysis"
   ]
  },
  {
   "cell_type": "code",
   "execution_count": 17,
   "id": "ffd06620",
   "metadata": {},
   "outputs": [],
   "source": [
    "df.to_csv('../data/online_retail_listing_cleaned.csv', index=False)"
   ]
  },
  {
   "cell_type": "markdown",
   "id": "4bdf9712",
   "metadata": {},
   "source": [
    "## Exploratory Data Analysis"
   ]
  },
  {
   "cell_type": "code",
   "execution_count": null,
   "id": "32e45958",
   "metadata": {},
   "outputs": [],
   "source": [
    "#!pip install pandas-profiling"
   ]
  },
  {
   "cell_type": "code",
   "execution_count": null,
   "id": "7a1781f5",
   "metadata": {},
   "outputs": [],
   "source": [
    "import pandas_profiling\n",
    "#Generating PandasProfiling Report\n",
    "report = pandas_profiling.ProfileReport(df)"
   ]
  },
  {
   "cell_type": "code",
   "execution_count": null,
   "id": "ddd602ef",
   "metadata": {},
   "outputs": [],
   "source": [
    "report"
   ]
  },
  {
   "cell_type": "code",
   "execution_count": null,
   "id": "63af8832",
   "metadata": {},
   "outputs": [],
   "source": [
    "df.drop_duplicates()"
   ]
  },
  {
   "cell_type": "code",
   "execution_count": null,
   "id": "93b822c7",
   "metadata": {},
   "outputs": [],
   "source": [
    "# skewness along the index axis\n",
    "df.skew(axis = 0, skipna = True)# highly skewed price, indicating there might be a few low priced items "
   ]
  },
  {
   "cell_type": "code",
   "execution_count": null,
   "id": "9cc744f0",
   "metadata": {},
   "outputs": [],
   "source": [
    "df['Country'].unique()\n"
   ]
  },
  {
   "cell_type": "markdown",
   "id": "2a3ab0a3",
   "metadata": {},
   "source": [
    "## Market Basket Analysis"
   ]
  },
  {
   "cell_type": "markdown",
   "id": "71f5c628",
   "metadata": {},
   "source": [
    "Unstack the df into basket with invoice and product descriptions"
   ]
  },
  {
   "cell_type": "code",
   "execution_count": null,
   "id": "3f2254df",
   "metadata": {},
   "outputs": [],
   "source": [
    "basket = df.groupby(['Invoice', 'Description'])['Quantity'].sum().unstack().reset_index().fillna(0).set_index('Invoice')"
   ]
  },
  {
   "cell_type": "code",
   "execution_count": null,
   "id": "e7914891",
   "metadata": {},
   "outputs": [],
   "source": [
    "basket "
   ]
  },
  {
   "cell_type": "markdown",
   "id": "fb2e33fa",
   "metadata": {},
   "source": [
    "Encode 0.0 to 0 and 1.0 to 1"
   ]
  },
  {
   "cell_type": "code",
   "execution_count": null,
   "id": "1b6bace1",
   "metadata": {},
   "outputs": [],
   "source": [
    "def encode_units(x):\n",
    "    if x <= 0:\n",
    "        return 0\n",
    "    if x >= 1:\n",
    "        return 1\n",
    "    \n",
    "basket_encode_plus = basket.applymap(encode_units)\n",
    "basket_encode_plus"
   ]
  },
  {
   "cell_type": "markdown",
   "id": "308b7301",
   "metadata": {},
   "source": [
    "Filter out Invoices with atleast 2 products "
   ]
  },
  {
   "cell_type": "code",
   "execution_count": null,
   "id": "0152abaa",
   "metadata": {},
   "outputs": [],
   "source": [
    "basket_filter_plus = basket_encode_plus[(basket_encode_plus > 0).sum(axis=1) >= 2]\n",
    "basket_filter_plus"
   ]
  },
  {
   "cell_type": "code",
   "execution_count": null,
   "id": "3ebcd6ef",
   "metadata": {},
   "outputs": [],
   "source": [
    "#!pip install mlxtend"
   ]
  },
  {
   "cell_type": "code",
   "execution_count": null,
   "id": "9d3dc1f7",
   "metadata": {},
   "outputs": [],
   "source": [
    "from mlxtend.frequent_patterns import apriori\n",
    "frequent_itemsets_plus = apriori(basket_filter_plus, min_support=0.03, \n",
    "                                 use_colnames=True).sort_values('support', ascending=False).reset_index(drop=True)\n",
    "\n",
    "frequent_itemsets_plus['length'] = frequent_itemsets_plus['itemsets'].apply(lambda x: len(x))\n",
    "\n",
    "frequent_itemsets_plus"
   ]
  },
  {
   "cell_type": "code",
   "execution_count": null,
   "id": "4a7bd8b5",
   "metadata": {},
   "outputs": [],
   "source": [
    "from mlxtend.frequent_patterns import association_rules"
   ]
  },
  {
   "cell_type": "code",
   "execution_count": null,
   "id": "ae9a01ae",
   "metadata": {},
   "outputs": [],
   "source": [
    "association_rules(frequent_itemsets_plus, metric='lift', \n",
    "                  min_threshold=1).sort_values('lift', ascending=False).reset_index(drop=True)"
   ]
  },
  {
   "cell_type": "markdown",
   "id": "dc6700b0",
   "metadata": {},
   "source": [
    "## Customer Segmentation"
   ]
  },
  {
   "cell_type": "code",
   "execution_count": null,
   "id": "744b8be2",
   "metadata": {},
   "outputs": [],
   "source": []
  },
  {
   "cell_type": "markdown",
   "id": "3cfee053",
   "metadata": {},
   "source": [
    "## Market basket Analysis - Chyavan"
   ]
  },
  {
   "cell_type": "markdown",
   "id": "24571588",
   "metadata": {},
   "source": [
    "#### Complementary Products"
   ]
  },
  {
   "cell_type": "code",
   "execution_count": 2,
   "id": "4e074a63",
   "metadata": {},
   "outputs": [
    {
     "name": "stderr",
     "output_type": "stream",
     "text": [
      "C:\\Users\\chyav\\AppData\\Local\\Temp\\ipykernel_16684\\3878480219.py:1: DtypeWarning: Columns (0) have mixed types. Specify dtype option on import or set low_memory=False.\n",
      "  df_mba = pd.read_csv(\"../data/online_retail_listing_cleaned.csv\")\n"
     ]
    },
    {
     "data": {
      "text/html": [
       "<div>\n",
       "<style scoped>\n",
       "    .dataframe tbody tr th:only-of-type {\n",
       "        vertical-align: middle;\n",
       "    }\n",
       "\n",
       "    .dataframe tbody tr th {\n",
       "        vertical-align: top;\n",
       "    }\n",
       "\n",
       "    .dataframe thead th {\n",
       "        text-align: right;\n",
       "    }\n",
       "</style>\n",
       "<table border=\"1\" class=\"dataframe\">\n",
       "  <thead>\n",
       "    <tr style=\"text-align: right;\">\n",
       "      <th></th>\n",
       "      <th>Invoice</th>\n",
       "      <th>StockCode</th>\n",
       "      <th>Description</th>\n",
       "      <th>Quantity</th>\n",
       "      <th>InvoiceDate</th>\n",
       "      <th>Price</th>\n",
       "      <th>Customer ID</th>\n",
       "      <th>Country</th>\n",
       "      <th>Valid_Customer</th>\n",
       "    </tr>\n",
       "  </thead>\n",
       "  <tbody>\n",
       "    <tr>\n",
       "      <th>0</th>\n",
       "      <td>489434</td>\n",
       "      <td>85048</td>\n",
       "      <td>15CM CHRISTMAS GLASS BALL 20 LIGHTS</td>\n",
       "      <td>12</td>\n",
       "      <td>2009-12-01 07:45:00</td>\n",
       "      <td>6.95</td>\n",
       "      <td>13085</td>\n",
       "      <td>United Kingdom</td>\n",
       "      <td>1</td>\n",
       "    </tr>\n",
       "    <tr>\n",
       "      <th>1</th>\n",
       "      <td>489434</td>\n",
       "      <td>79323P</td>\n",
       "      <td>PINK CHERRY LIGHTS</td>\n",
       "      <td>12</td>\n",
       "      <td>2009-12-01 07:45:00</td>\n",
       "      <td>6.75</td>\n",
       "      <td>13085</td>\n",
       "      <td>United Kingdom</td>\n",
       "      <td>1</td>\n",
       "    </tr>\n",
       "    <tr>\n",
       "      <th>2</th>\n",
       "      <td>489434</td>\n",
       "      <td>79323W</td>\n",
       "      <td>WHITE CHERRY LIGHTS</td>\n",
       "      <td>12</td>\n",
       "      <td>2009-12-01 07:45:00</td>\n",
       "      <td>6.75</td>\n",
       "      <td>13085</td>\n",
       "      <td>United Kingdom</td>\n",
       "      <td>1</td>\n",
       "    </tr>\n",
       "    <tr>\n",
       "      <th>3</th>\n",
       "      <td>489434</td>\n",
       "      <td>22041</td>\n",
       "      <td>RECORD FRAME 7\" SINGLE SIZE</td>\n",
       "      <td>48</td>\n",
       "      <td>2009-12-01 07:45:00</td>\n",
       "      <td>2.10</td>\n",
       "      <td>13085</td>\n",
       "      <td>United Kingdom</td>\n",
       "      <td>1</td>\n",
       "    </tr>\n",
       "    <tr>\n",
       "      <th>4</th>\n",
       "      <td>489434</td>\n",
       "      <td>21232</td>\n",
       "      <td>STRAWBERRY CERAMIC TRINKET BOX</td>\n",
       "      <td>24</td>\n",
       "      <td>2009-12-01 07:45:00</td>\n",
       "      <td>1.25</td>\n",
       "      <td>13085</td>\n",
       "      <td>United Kingdom</td>\n",
       "      <td>1</td>\n",
       "    </tr>\n",
       "  </tbody>\n",
       "</table>\n",
       "</div>"
      ],
      "text/plain": [
       "  Invoice StockCode                          Description  Quantity  \\\n",
       "0  489434     85048  15CM CHRISTMAS GLASS BALL 20 LIGHTS        12   \n",
       "1  489434    79323P                   PINK CHERRY LIGHTS        12   \n",
       "2  489434    79323W                  WHITE CHERRY LIGHTS        12   \n",
       "3  489434     22041          RECORD FRAME 7\" SINGLE SIZE        48   \n",
       "4  489434     21232       STRAWBERRY CERAMIC TRINKET BOX        24   \n",
       "\n",
       "          InvoiceDate  Price  Customer ID         Country  Valid_Customer  \n",
       "0 2009-12-01 07:45:00   6.95        13085  United Kingdom               1  \n",
       "1 2009-12-01 07:45:00   6.75        13085  United Kingdom               1  \n",
       "2 2009-12-01 07:45:00   6.75        13085  United Kingdom               1  \n",
       "3 2009-12-01 07:45:00   2.10        13085  United Kingdom               1  \n",
       "4 2009-12-01 07:45:00   1.25        13085  United Kingdom               1  "
      ]
     },
     "execution_count": 2,
     "metadata": {},
     "output_type": "execute_result"
    }
   ],
   "source": [
    "df_mba = pd.read_csv(\"../data/online_retail_listing_cleaned.csv\")\n",
    "df_mba['InvoiceDate'] = pd.to_datetime(df_mba['InvoiceDate'], format = \"%Y-%m-%d %H:%M:%S\")\n",
    "df_mba.head()"
   ]
  },
  {
   "cell_type": "code",
   "execution_count": 3,
   "id": "bcd72a4d",
   "metadata": {},
   "outputs": [],
   "source": [
    "mba = df_mba[[\"Invoice\", \"StockCode\"]]\n",
    "unique_items = mba[\"StockCode\"].drop_duplicates()"
   ]
  },
  {
   "cell_type": "code",
   "execution_count": 4,
   "id": "d7f9667b",
   "metadata": {},
   "outputs": [],
   "source": [
    "mba_unique = mba.drop_duplicates()\n",
    "mba_crosstab = pd.crosstab(mba_unique[\"Invoice\"], mba_unique[\"StockCode\"])\n",
    "\n",
    "product_counts = unique_items.map(lambda product: mba_crosstab[[product]].value_counts().get(1, 0))\n",
    "product_counts.index = unique_items.values\n",
    "\n",
    "N = len(mba_crosstab)"
   ]
  },
  {
   "cell_type": "code",
   "execution_count": 5,
   "id": "a5bf50fc",
   "metadata": {},
   "outputs": [
    {
     "data": {
      "text/plain": [
       "3.9035336356764927"
      ]
     },
     "execution_count": 5,
     "metadata": {},
     "output_type": "execute_result"
    }
   ],
   "source": [
    "def calculate_lift(product_1, product_2):\n",
    "    count_1 = product_counts[product_1]\n",
    "    count_2 = product_counts[product_2]\n",
    "    count_12 = mba_crosstab[[product_1, product_2]].value_counts().get((1,1), 0)\n",
    "    if count_12 == 0:\n",
    "        return 0\n",
    "    return N*count_12/(count_1*count_2)\n",
    "\n",
    "calculate_lift(\"85048\", \"23562\")"
   ]
  },
  {
   "cell_type": "code",
   "execution_count": 54,
   "id": "cb10dc91",
   "metadata": {},
   "outputs": [
    {
     "data": {
      "text/html": [
       "<div>\n",
       "<style scoped>\n",
       "    .dataframe tbody tr th:only-of-type {\n",
       "        vertical-align: middle;\n",
       "    }\n",
       "\n",
       "    .dataframe tbody tr th {\n",
       "        vertical-align: top;\n",
       "    }\n",
       "\n",
       "    .dataframe thead th {\n",
       "        text-align: right;\n",
       "    }\n",
       "</style>\n",
       "<table border=\"1\" class=\"dataframe\">\n",
       "  <thead>\n",
       "    <tr style=\"text-align: right;\">\n",
       "      <th></th>\n",
       "      <th>85048</th>\n",
       "      <th>79323P</th>\n",
       "      <th>79323W</th>\n",
       "      <th>22041</th>\n",
       "      <th>21232</th>\n",
       "      <th>22064</th>\n",
       "      <th>21871</th>\n",
       "      <th>21523</th>\n",
       "      <th>22350</th>\n",
       "      <th>22349</th>\n",
       "      <th>...</th>\n",
       "      <th>23578</th>\n",
       "      <th>23580</th>\n",
       "      <th>23575</th>\n",
       "      <th>23560</th>\n",
       "      <th>23576</th>\n",
       "      <th>23562</th>\n",
       "      <th>23561</th>\n",
       "      <th>23609</th>\n",
       "      <th>23617</th>\n",
       "      <th>processed</th>\n",
       "    </tr>\n",
       "  </thead>\n",
       "  <tbody>\n",
       "    <tr>\n",
       "      <th>85048</th>\n",
       "      <td>NaN</td>\n",
       "      <td>3.093366</td>\n",
       "      <td>2.818597</td>\n",
       "      <td>2.402175</td>\n",
       "      <td>2.238435</td>\n",
       "      <td>3.269281</td>\n",
       "      <td>3.624347</td>\n",
       "      <td>2.064099</td>\n",
       "      <td>3.209833</td>\n",
       "      <td>2.239732</td>\n",
       "      <td>...</td>\n",
       "      <td>NaN</td>\n",
       "      <td>NaN</td>\n",
       "      <td>NaN</td>\n",
       "      <td>NaN</td>\n",
       "      <td>NaN</td>\n",
       "      <td>NaN</td>\n",
       "      <td>NaN</td>\n",
       "      <td>NaN</td>\n",
       "      <td>NaN</td>\n",
       "      <td>True</td>\n",
       "    </tr>\n",
       "    <tr>\n",
       "      <th>79323P</th>\n",
       "      <td>3.093366</td>\n",
       "      <td>NaN</td>\n",
       "      <td>72.815538</td>\n",
       "      <td>1.427708</td>\n",
       "      <td>3.096182</td>\n",
       "      <td>7.138959</td>\n",
       "      <td>6.284884</td>\n",
       "      <td>5.467914</td>\n",
       "      <td>4.695954</td>\n",
       "      <td>3.833746</td>\n",
       "      <td>...</td>\n",
       "      <td>NaN</td>\n",
       "      <td>NaN</td>\n",
       "      <td>NaN</td>\n",
       "      <td>NaN</td>\n",
       "      <td>NaN</td>\n",
       "      <td>NaN</td>\n",
       "      <td>NaN</td>\n",
       "      <td>NaN</td>\n",
       "      <td>NaN</td>\n",
       "      <td>True</td>\n",
       "    </tr>\n",
       "    <tr>\n",
       "      <th>79323W</th>\n",
       "      <td>2.818597</td>\n",
       "      <td>72.815538</td>\n",
       "      <td>NaN</td>\n",
       "      <td>1.300891</td>\n",
       "      <td>2.889733</td>\n",
       "      <td>3.846948</td>\n",
       "      <td>4.618248</td>\n",
       "      <td>5.003517</td>\n",
       "      <td>4.635404</td>\n",
       "      <td>3.881347</td>\n",
       "      <td>...</td>\n",
       "      <td>NaN</td>\n",
       "      <td>NaN</td>\n",
       "      <td>NaN</td>\n",
       "      <td>NaN</td>\n",
       "      <td>NaN</td>\n",
       "      <td>NaN</td>\n",
       "      <td>NaN</td>\n",
       "      <td>NaN</td>\n",
       "      <td>NaN</td>\n",
       "      <td>True</td>\n",
       "    </tr>\n",
       "    <tr>\n",
       "      <th>22041</th>\n",
       "      <td>2.402175</td>\n",
       "      <td>1.427708</td>\n",
       "      <td>1.300891</td>\n",
       "      <td>NaN</td>\n",
       "      <td>3.882041</td>\n",
       "      <td>4.470812</td>\n",
       "      <td>4.723131</td>\n",
       "      <td>2.789936</td>\n",
       "      <td>3.190840</td>\n",
       "      <td>2.274190</td>\n",
       "      <td>...</td>\n",
       "      <td>NaN</td>\n",
       "      <td>NaN</td>\n",
       "      <td>NaN</td>\n",
       "      <td>NaN</td>\n",
       "      <td>NaN</td>\n",
       "      <td>NaN</td>\n",
       "      <td>NaN</td>\n",
       "      <td>NaN</td>\n",
       "      <td>NaN</td>\n",
       "      <td>True</td>\n",
       "    </tr>\n",
       "    <tr>\n",
       "      <th>21232</th>\n",
       "      <td>2.238435</td>\n",
       "      <td>3.096182</td>\n",
       "      <td>2.889733</td>\n",
       "      <td>3.882041</td>\n",
       "      <td>NaN</td>\n",
       "      <td>10.857026</td>\n",
       "      <td>4.001080</td>\n",
       "      <td>2.828422</td>\n",
       "      <td>3.140674</td>\n",
       "      <td>2.241771</td>\n",
       "      <td>...</td>\n",
       "      <td>NaN</td>\n",
       "      <td>NaN</td>\n",
       "      <td>NaN</td>\n",
       "      <td>NaN</td>\n",
       "      <td>NaN</td>\n",
       "      <td>NaN</td>\n",
       "      <td>NaN</td>\n",
       "      <td>NaN</td>\n",
       "      <td>NaN</td>\n",
       "      <td>True</td>\n",
       "    </tr>\n",
       "  </tbody>\n",
       "</table>\n",
       "<p>5 rows × 4921 columns</p>\n",
       "</div>"
      ],
      "text/plain": [
       "           85048     79323P     79323W     22041     21232      22064  \\\n",
       "85048        NaN   3.093366   2.818597  2.402175  2.238435   3.269281   \n",
       "79323P  3.093366        NaN  72.815538  1.427708  3.096182   7.138959   \n",
       "79323W  2.818597  72.815538        NaN  1.300891  2.889733   3.846948   \n",
       "22041   2.402175   1.427708   1.300891       NaN  3.882041   4.470812   \n",
       "21232   2.238435   3.096182   2.889733  3.882041       NaN  10.857026   \n",
       "\n",
       "           21871     21523     22350     22349  ...  23578  23580  23575  \\\n",
       "85048   3.624347  2.064099  3.209833  2.239732  ...    NaN    NaN    NaN   \n",
       "79323P  6.284884  5.467914  4.695954  3.833746  ...    NaN    NaN    NaN   \n",
       "79323W  4.618248  5.003517  4.635404  3.881347  ...    NaN    NaN    NaN   \n",
       "22041   4.723131  2.789936  3.190840  2.274190  ...    NaN    NaN    NaN   \n",
       "21232   4.001080  2.828422  3.140674  2.241771  ...    NaN    NaN    NaN   \n",
       "\n",
       "        23560  23576  23562  23561  23609  23617  processed  \n",
       "85048     NaN    NaN    NaN    NaN    NaN    NaN       True  \n",
       "79323P    NaN    NaN    NaN    NaN    NaN    NaN       True  \n",
       "79323W    NaN    NaN    NaN    NaN    NaN    NaN       True  \n",
       "22041     NaN    NaN    NaN    NaN    NaN    NaN       True  \n",
       "21232     NaN    NaN    NaN    NaN    NaN    NaN       True  \n",
       "\n",
       "[5 rows x 4921 columns]"
      ]
     },
     "execution_count": 54,
     "metadata": {},
     "output_type": "execute_result"
    }
   ],
   "source": [
    "# 1.  Load Lift Matrix\n",
    "try:\n",
    "    lifts = pd.read_csv(\"../data/lifts.csv\", index_col=\"idx\")\n",
    "    lifts.index.name = None\n",
    "\n",
    "# 2. Create Lift Matrix\n",
    "except FileNotFoundError: \n",
    "    lifts = pd.DataFrame([], columns=unique_items.values, index=unique_items.values)\n",
    "    lifts[\"processed\"] = False\n",
    "\n",
    "lifts.head()"
   ]
  },
  {
   "cell_type": "code",
   "execution_count": 53,
   "id": "61d2d5e9",
   "metadata": {},
   "outputs": [],
   "source": [
    "import datetime\n",
    "\n",
    "start = datetime.datetime.now()\n",
    "\n",
    "for i, item1 in enumerate(unique_items.values):\n",
    "    if lifts.iloc[i][\"processed\"]:\n",
    "        continue\n",
    "    for j, item2 in enumerate(unique_items.values):\n",
    "        if i > j:\n",
    "            lift = calculate_lift(item1, item2)\n",
    "            lifts.loc[item1, item2] = lift\n",
    "            lifts.loc[item2, item1] = lift\n",
    "    lifts.loc[item1, \"processed\"] = True\n",
    "    lifts.to_csv(\"../data/lifts.csv\", index_label=\"idx\")\n",
    "    end = datetime.datetime.now()\n",
    "    if (end - start).seconds > 25200:\n",
    "        break"
   ]
  },
  {
   "cell_type": "code",
   "execution_count": 61,
   "id": "bda13bfd",
   "metadata": {},
   "outputs": [],
   "source": [
    "# mba_crosstab[[\"85048\", \"23562\"]].value_counts().get((1,1), 0)\n",
    "# mba_crosstab[[\"21232\"]].value_counts().get(1, 0)"
   ]
  },
  {
   "cell_type": "markdown",
   "id": "e39b3190",
   "metadata": {},
   "source": [
    "#### Substitutive Products"
   ]
  }
 ],
 "metadata": {
  "kernelspec": {
   "display_name": "Python 3.10.5 64-bit",
   "language": "python",
   "name": "python3"
  },
  "language_info": {
   "codemirror_mode": {
    "name": "ipython",
    "version": 3
   },
   "file_extension": ".py",
   "mimetype": "text/x-python",
   "name": "python",
   "nbconvert_exporter": "python",
   "pygments_lexer": "ipython3",
   "version": "3.10.5"
  },
  "vscode": {
   "interpreter": {
    "hash": "26de051ba29f2982a8de78e945f0abaf191376122a1563185a90213a26c5da77"
   }
  }
 },
 "nbformat": 4,
 "nbformat_minor": 5
}
