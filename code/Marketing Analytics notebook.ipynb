{
 "cells": [
  {
   "cell_type": "markdown",
   "id": "0b4eb920",
   "metadata": {},
   "source": [
    "# Code"
   ]
  },
  {
   "cell_type": "markdown",
   "id": "5be7f180",
   "metadata": {},
   "source": [
    "## Imports and packages required"
   ]
  },
  {
   "cell_type": "code",
   "execution_count": 1,
   "id": "5558fd85",
   "metadata": {},
   "outputs": [],
   "source": [
    "import numpy as np\n",
    "import pandas as pd"
   ]
  },
  {
   "cell_type": "markdown",
   "id": "fdc406cc",
   "metadata": {},
   "source": [
    "## Preprocessing"
   ]
  },
  {
   "cell_type": "markdown",
   "id": "6168863a",
   "metadata": {},
   "source": [
    "### 1. Reading the CSV File"
   ]
  },
  {
   "cell_type": "code",
   "execution_count": 2,
   "id": "0079b709",
   "metadata": {},
   "outputs": [
    {
     "data": {
      "text/html": [
       "<div>\n",
       "<style scoped>\n",
       "    .dataframe tbody tr th:only-of-type {\n",
       "        vertical-align: middle;\n",
       "    }\n",
       "\n",
       "    .dataframe tbody tr th {\n",
       "        vertical-align: top;\n",
       "    }\n",
       "\n",
       "    .dataframe thead th {\n",
       "        text-align: right;\n",
       "    }\n",
       "</style>\n",
       "<table border=\"1\" class=\"dataframe\">\n",
       "  <thead>\n",
       "    <tr style=\"text-align: right;\">\n",
       "      <th></th>\n",
       "      <th>Invoice</th>\n",
       "      <th>StockCode</th>\n",
       "      <th>Description</th>\n",
       "      <th>Quantity</th>\n",
       "      <th>InvoiceDate</th>\n",
       "      <th>Price</th>\n",
       "      <th>Customer ID</th>\n",
       "      <th>Country</th>\n",
       "    </tr>\n",
       "  </thead>\n",
       "  <tbody>\n",
       "    <tr>\n",
       "      <th>0</th>\n",
       "      <td>489434</td>\n",
       "      <td>85048</td>\n",
       "      <td>15CM CHRISTMAS GLASS BALL 20 LIGHTS</td>\n",
       "      <td>12</td>\n",
       "      <td>1.12.2009 07:45</td>\n",
       "      <td>6.95</td>\n",
       "      <td>13085.0</td>\n",
       "      <td>United Kingdom</td>\n",
       "    </tr>\n",
       "    <tr>\n",
       "      <th>1</th>\n",
       "      <td>489434</td>\n",
       "      <td>79323P</td>\n",
       "      <td>PINK CHERRY LIGHTS</td>\n",
       "      <td>12</td>\n",
       "      <td>1.12.2009 07:45</td>\n",
       "      <td>6.75</td>\n",
       "      <td>13085.0</td>\n",
       "      <td>United Kingdom</td>\n",
       "    </tr>\n",
       "    <tr>\n",
       "      <th>2</th>\n",
       "      <td>489434</td>\n",
       "      <td>79323W</td>\n",
       "      <td>WHITE CHERRY LIGHTS</td>\n",
       "      <td>12</td>\n",
       "      <td>1.12.2009 07:45</td>\n",
       "      <td>6.75</td>\n",
       "      <td>13085.0</td>\n",
       "      <td>United Kingdom</td>\n",
       "    </tr>\n",
       "  </tbody>\n",
       "</table>\n",
       "</div>"
      ],
      "text/plain": [
       "  Invoice StockCode                          Description  Quantity  \\\n",
       "0  489434     85048  15CM CHRISTMAS GLASS BALL 20 LIGHTS        12   \n",
       "1  489434    79323P                   PINK CHERRY LIGHTS        12   \n",
       "2  489434    79323W                  WHITE CHERRY LIGHTS        12   \n",
       "\n",
       "       InvoiceDate  Price  Customer ID         Country  \n",
       "0  1.12.2009 07:45   6.95      13085.0  United Kingdom  \n",
       "1  1.12.2009 07:45   6.75      13085.0  United Kingdom  \n",
       "2  1.12.2009 07:45   6.75      13085.0  United Kingdom  "
      ]
     },
     "execution_count": 2,
     "metadata": {},
     "output_type": "execute_result"
    }
   ],
   "source": [
    "df = pd.read_csv('../data/online_retail_listing.csv', on_bad_lines='skip',delimiter=';', decimal = ',')\n",
    "df.head(3)"
   ]
  },
  {
   "cell_type": "markdown",
   "id": "23f416ae",
   "metadata": {},
   "source": [
    "### 2. InvoiceDate column type conversion from String to DateTime"
   ]
  },
  {
   "cell_type": "code",
   "execution_count": 3,
   "id": "32d8ff34",
   "metadata": {},
   "outputs": [],
   "source": [
    "df['InvoiceDate'] = pd.to_datetime(df['InvoiceDate'], format = \"%d.%m.%Y %H:%M\")"
   ]
  },
  {
   "cell_type": "markdown",
   "id": "8fa867dd",
   "metadata": {},
   "source": [
    "### 3. Customer ID column type conversion from Float to Int"
   ]
  },
  {
   "cell_type": "code",
   "execution_count": 4,
   "id": "133212cb",
   "metadata": {},
   "outputs": [],
   "source": [
    "df['Customer ID'] = df['Customer ID'].astype('Int64')"
   ]
  },
  {
   "cell_type": "markdown",
   "id": "47ddde01",
   "metadata": {},
   "source": [
    "### 4. Quantity and price - Filter out bad values"
   ]
  },
  {
   "cell_type": "code",
   "execution_count": 5,
   "id": "2fb4a6ac",
   "metadata": {},
   "outputs": [],
   "source": [
    "df = df[df['Quantity']>=0]\n",
    "df = df[df['Price']>=0]"
   ]
  },
  {
   "cell_type": "markdown",
   "id": "f085a6ba",
   "metadata": {},
   "source": [
    "### 5. Processing the Description"
   ]
  },
  {
   "cell_type": "markdown",
   "id": "6366c689",
   "metadata": {},
   "source": [
    "1. Convert all descriptions to uppercase\n",
    "2. Find `StockCode`s with multiple descriptions (Lengthy, Short, NaN, etc.) and keep the longest string as the detailed description\n",
    "3. Filter out transactions with no descriptions (66 found)\n",
    "4. Strip the string to remove any leading and trailing whitespaces"
   ]
  },
  {
   "cell_type": "code",
   "execution_count": 6,
   "id": "e87a748c",
   "metadata": {},
   "outputs": [],
   "source": [
    "#1\n",
    "df[\"Description\"] = df[\"Description\"].str.upper()\n",
    "\n",
    "#2\n",
    "grps = df[[\"StockCode\", \"Description\"]].drop_duplicates().groupby(\"StockCode\")\n",
    "desc_replacer = dict()\n",
    "for grp in grps:\n",
    "    if len(grp[1])>1:\n",
    "        desc_replacer[grp[0]] = grp[1][\"Description\"][grp[1][\"Description\"].map(str).agg(len).idxmax()]\n",
    "\n",
    "df[\"Description\"] = df.apply(\n",
    "        axis=1, \n",
    "        func=lambda x: desc_replacer[x[\"StockCode\"]] if x[\"StockCode\"] in desc_replacer.keys() else x[\"Description\"]\n",
    "    )\n",
    "\n",
    "#3\n",
    "df = df[df['Description'].notna()]\n",
    "\n",
    "#4\n",
    "df[\"Description\"] = df[\"Description\"].map(lambda x: str(x).strip())"
   ]
  },
  {
   "cell_type": "markdown",
   "id": "56d088d9",
   "metadata": {},
   "source": [
    "### 6. Processing the Customer IDs"
   ]
  },
  {
   "cell_type": "markdown",
   "id": "673350a3",
   "metadata": {},
   "source": [
    "In the dataset, we know that there is no such entry where the same invoice is shared between two customers.\n",
    "\n",
    "Let us check if the same invoice has a customer ID in some entries, and NA in other"
   ]
  },
  {
   "cell_type": "code",
   "execution_count": 7,
   "id": "82cb4200",
   "metadata": {},
   "outputs": [
    {
     "data": {
      "text/plain": [
       "232427"
      ]
     },
     "execution_count": 7,
     "metadata": {},
     "output_type": "execute_result"
    }
   ],
   "source": [
    "df[\"Customer ID\"].isna().sum()"
   ]
  },
  {
   "cell_type": "code",
   "execution_count": 8,
   "id": "5ff4fbb3",
   "metadata": {},
   "outputs": [
    {
     "data": {
      "text/plain": [
       "0"
      ]
     },
     "metadata": {},
     "output_type": "display_data"
    }
   ],
   "source": [
    "empty_CID_Orders = df[df[\"Customer ID\"].isna()][\"Invoice\"].drop_duplicates().values.tolist()\n",
    "display(df[df[\"Invoice\"].map(lambda x: x in empty_CID_Orders)][\"Customer ID\"].notna().sum())"
   ]
  },
  {
   "cell_type": "markdown",
   "id": "4110a152",
   "metadata": {},
   "source": [
    "Since there are no invoices where we can recover `Customer ID` from another entry, we can give placeholder IDs to Customers with ID `NA`, assuming each invoice corresponds to a new customer."
   ]
  },
  {
   "cell_type": "code",
   "execution_count": 9,
   "id": "34e155e8",
   "metadata": {},
   "outputs": [],
   "source": [
    "max_existing_id = df[\"Customer ID\"].max()\n",
    "invoice_cust_dict = dict()\n",
    "\n",
    "for key in empty_CID_Orders:\n",
    "    max_existing_id += 1\n",
    "    invoice_cust_dict[key] = max_existing_id\n",
    "\n",
    "df[\"Valid_Customer\"] = df[\"Customer ID\"].notna().map(lambda x: int(x))\n",
    "df[\"Customer ID\"] = df.apply(\n",
    "        axis=1, \n",
    "        func=lambda x: invoice_cust_dict[x[\"Invoice\"]] if x[\"Invoice\"] in invoice_cust_dict.keys() else x[\"Customer ID\"]\n",
    "    )"
   ]
  },
  {
   "cell_type": "markdown",
   "id": "bcf5ab62",
   "metadata": {},
   "source": [
    "### 7. Drop duplicate entries of the same transaction"
   ]
  },
  {
   "cell_type": "code",
   "execution_count": 11,
   "id": "e8cf6137",
   "metadata": {},
   "outputs": [],
   "source": [
    "df.drop_duplicates(inplace=True)"
   ]
  },
  {
   "cell_type": "markdown",
   "id": "6fb16c20",
   "metadata": {},
   "source": [
    "### 8. Check for invalid data in the DataFrame"
   ]
  },
  {
   "cell_type": "code",
   "execution_count": 12,
   "id": "39674d88",
   "metadata": {},
   "outputs": [
    {
     "data": {
      "text/plain": [
       "Invoice           0\n",
       "StockCode         0\n",
       "Description       0\n",
       "Quantity          0\n",
       "InvoiceDate       0\n",
       "Price             0\n",
       "Customer ID       0\n",
       "Country           0\n",
       "Valid_Customer    0\n",
       "dtype: int64"
      ]
     },
     "execution_count": 12,
     "metadata": {},
     "output_type": "execute_result"
    }
   ],
   "source": [
    "df.isna().sum()"
   ]
  },
  {
   "cell_type": "markdown",
   "id": "0e6ffa2a",
   "metadata": {},
   "source": [
    "### 9. Save the cleaned DataFrame for further analysis"
   ]
  },
  {
   "cell_type": "code",
   "execution_count": 13,
   "id": "ffd06620",
   "metadata": {},
   "outputs": [],
   "source": [
    "df.to_csv('../data/online_retail_listing_cleaned.csv', index=False)"
   ]
  },
  {
   "cell_type": "markdown",
   "id": "4bdf9712",
   "metadata": {},
   "source": [
    "## Exploratory Data Analysis"
   ]
  },
  {
   "cell_type": "code",
   "execution_count": null,
   "id": "32e45958",
   "metadata": {},
   "outputs": [],
   "source": [
    "#!pip install pandas-profiling"
   ]
  },
  {
   "cell_type": "code",
   "execution_count": null,
   "id": "7a1781f5",
   "metadata": {},
   "outputs": [],
   "source": [
    "import pandas_profiling\n",
    "#Generating PandasProfiling Report\n",
    "report = pandas_profiling.ProfileReport(df)"
   ]
  },
  {
   "cell_type": "code",
   "execution_count": null,
   "id": "ddd602ef",
   "metadata": {},
   "outputs": [],
   "source": [
    "report"
   ]
  },
  {
   "cell_type": "code",
   "execution_count": null,
   "id": "63af8832",
   "metadata": {},
   "outputs": [],
   "source": [
    "df.drop_duplicates()"
   ]
  },
  {
   "cell_type": "code",
   "execution_count": null,
   "id": "93b822c7",
   "metadata": {},
   "outputs": [],
   "source": [
    "# skewness along the index axis\n",
    "df.skew(axis = 0, skipna = True)# highly skewed price, indicating there might be a few low priced items "
   ]
  },
  {
   "cell_type": "code",
   "execution_count": null,
   "id": "9cc744f0",
   "metadata": {},
   "outputs": [],
   "source": [
    "df['Country'].unique()\n"
   ]
  },
  {
   "cell_type": "markdown",
   "id": "2a3ab0a3",
   "metadata": {},
   "source": [
    "## Market Basket Analysis"
   ]
  },
  {
   "cell_type": "markdown",
   "id": "71f5c628",
   "metadata": {},
   "source": [
    "Unstack the df into basket with invoice and product descriptions"
   ]
  },
  {
   "cell_type": "code",
   "execution_count": null,
   "id": "3f2254df",
   "metadata": {},
   "outputs": [],
   "source": [
    "basket = df.groupby(['Invoice', 'Description'])['Quantity'].sum().unstack().reset_index().fillna(0).set_index('Invoice')"
   ]
  },
  {
   "cell_type": "code",
   "execution_count": null,
   "id": "e7914891",
   "metadata": {},
   "outputs": [],
   "source": [
    "basket "
   ]
  },
  {
   "cell_type": "markdown",
   "id": "fb2e33fa",
   "metadata": {},
   "source": [
    "Encode 0.0 to 0 and 1.0 to 1"
   ]
  },
  {
   "cell_type": "code",
   "execution_count": null,
   "id": "1b6bace1",
   "metadata": {},
   "outputs": [],
   "source": [
    "def encode_units(x):\n",
    "    if x <= 0:\n",
    "        return 0\n",
    "    if x >= 1:\n",
    "        return 1\n",
    "    \n",
    "basket_encode_plus = basket.applymap(encode_units)\n",
    "basket_encode_plus"
   ]
  },
  {
   "cell_type": "markdown",
   "id": "308b7301",
   "metadata": {},
   "source": [
    "Filter out Invoices with atleast 2 products "
   ]
  },
  {
   "cell_type": "code",
   "execution_count": null,
   "id": "0152abaa",
   "metadata": {},
   "outputs": [],
   "source": [
    "basket_filter_plus = basket_encode_plus[(basket_encode_plus > 0).sum(axis=1) >= 2]\n",
    "basket_filter_plus"
   ]
  },
  {
   "cell_type": "code",
   "execution_count": null,
   "id": "3ebcd6ef",
   "metadata": {},
   "outputs": [],
   "source": [
    "#!pip install mlxtend"
   ]
  },
  {
   "cell_type": "code",
   "execution_count": null,
   "id": "9d3dc1f7",
   "metadata": {},
   "outputs": [],
   "source": [
    "from mlxtend.frequent_patterns import apriori\n",
    "frequent_itemsets_plus = apriori(basket_filter_plus, min_support=0.03, \n",
    "                                 use_colnames=True).sort_values('support', ascending=False).reset_index(drop=True)\n",
    "\n",
    "frequent_itemsets_plus['length'] = frequent_itemsets_plus['itemsets'].apply(lambda x: len(x))\n",
    "\n",
    "frequent_itemsets_plus"
   ]
  },
  {
   "cell_type": "code",
   "execution_count": null,
   "id": "4a7bd8b5",
   "metadata": {},
   "outputs": [],
   "source": [
    "from mlxtend.frequent_patterns import association_rules"
   ]
  },
  {
   "cell_type": "code",
   "execution_count": null,
   "id": "ae9a01ae",
   "metadata": {},
   "outputs": [],
   "source": [
    "association_rules(frequent_itemsets_plus, metric='lift', \n",
    "                  min_threshold=1).sort_values('lift', ascending=False).reset_index(drop=True)"
   ]
  },
  {
   "cell_type": "markdown",
   "id": "dc6700b0",
   "metadata": {},
   "source": [
    "# Customer Segmentation"
   ]
  },
  {
   "cell_type": "code",
   "execution_count": null,
   "id": "744b8be2",
   "metadata": {},
   "outputs": [],
   "source": []
  }
 ],
 "metadata": {
  "kernelspec": {
   "display_name": "Python 3.10.5 64-bit",
   "language": "python",
   "name": "python3"
  },
  "language_info": {
   "codemirror_mode": {
    "name": "ipython",
    "version": 3
   },
   "file_extension": ".py",
   "mimetype": "text/x-python",
   "name": "python",
   "nbconvert_exporter": "python",
   "pygments_lexer": "ipython3",
   "version": "3.10.5"
  },
  "vscode": {
   "interpreter": {
    "hash": "26de051ba29f2982a8de78e945f0abaf191376122a1563185a90213a26c5da77"
   }
  }
 },
 "nbformat": 4,
 "nbformat_minor": 5
}
